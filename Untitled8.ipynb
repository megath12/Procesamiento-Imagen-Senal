{
 "cells": [
  {
   "cell_type": "code",
   "execution_count": 4,
   "metadata": {},
   "outputs": [
    {
     "name": "stdout",
     "output_type": "stream",
     "text": [
      "Using matplotlib backend: Qt5Agg\n"
     ]
    }
   ],
   "source": [
    "import numpy as np\n",
    "import matplotlib.pyplot as plt\n",
    "%matplotlib auto\n",
    "\n",
    "\n",
    "import matplotlib.animation as animation"
   ]
  },
  {
   "cell_type": "code",
   "execution_count": 8,
   "metadata": {},
   "outputs": [
    {
     "name": "stdout",
     "output_type": "stream",
     "text": [
      "['Hola python', '1,1', '2,4', '3,9']\n",
      "['Hola python']\n",
      "['1', '1']\n",
      "['2', '4']\n",
      "['3', '9']\n"
     ]
    }
   ],
   "source": [
    "archivo=open(r'C:\\Users\\HP\\Desktop\\datos.txt','r')\n",
    "texto=archivo.read()\n",
    "lineas=texto.split('\\n')\n",
    "#print(lineas)\n",
    "\n",
    "xlista=[]\n",
    "ylista=[]\n",
    "for e in lineas:\n",
    "    if e=='':\n",
    "        continue\n",
    "    #e.split(',')\n",
    "    #print(e.split(','))\n",
    "    x,y=e.split(',')\n",
    "    x=float(x)\n",
    "    y=float(y)\n",
    "    xlista.append(x)\n",
    "    ylista.append(x)\n",
    "    #print(x,y)"
   ]
  },
  {
   "cell_type": "code",
   "execution_count": 12,
   "metadata": {},
   "outputs": [],
   "source": [
    "fig=plt.figure()\n",
    "ax=plt.subplot(111)\n",
    "\n",
    "def actualizar(i):\n",
    "    archivo=open(r'C:\\Users\\HP\\Desktop\\datos.txt','r')\n",
    "    texto=archivo.read()\n",
    "    lineas=texto.split('\\n')\n",
    "#print(lineas)\n",
    "\n",
    "    xlista=[]\n",
    "    ylista=[]\n",
    "    for e in lineas:\n",
    "        if e=='':\n",
    "            continue\n",
    "    #e.split(',')\n",
    "    #print(e.split(','))\n",
    "        x,y=e.split(',')\n",
    "        x=float(x)\n",
    "        y=float(y)\n",
    "        xlista.append(x)\n",
    "        ylista.append(x)\n",
    "    #print(x,y)\n",
    "    ax.clear()\n",
    "    plt.plot(xlista,ylista)\n",
    "    \n",
    "ani=animation.FuncAnimation(fig,actualizar)"
   ]
  },
  {
   "cell_type": "code",
   "execution_count": null,
   "metadata": {
    "collapsed": true
   },
   "outputs": [],
   "source": []
  }
 ],
 "metadata": {
  "kernelspec": {
   "display_name": "Python 3",
   "language": "python",
   "name": "python3"
  },
  "language_info": {
   "codemirror_mode": {
    "name": "ipython",
    "version": 3
   },
   "file_extension": ".py",
   "mimetype": "text/x-python",
   "name": "python",
   "nbconvert_exporter": "python",
   "pygments_lexer": "ipython3",
   "version": "3.6.3"
  }
 },
 "nbformat": 4,
 "nbformat_minor": 2
}

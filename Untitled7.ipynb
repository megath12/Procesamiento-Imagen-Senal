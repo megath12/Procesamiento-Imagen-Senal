{
 "cells": [
  {
   "cell_type": "code",
   "execution_count": 10,
   "metadata": {},
   "outputs": [
    {
     "name": "stdout",
     "output_type": "stream",
     "text": [
      "Using matplotlib backend: Qt5Agg\n"
     ]
    }
   ],
   "source": [
    "import numpy as np\n",
    "import matplotlib.pyplot as plt\n",
    "%matplotlib auto\n",
    "\n",
    "import matplotlib.animation as animation"
   ]
  },
  {
   "cell_type": "code",
   "execution_count": 14,
   "metadata": {},
   "outputs": [],
   "source": [
    "def f(t):\n",
    "    return t**2\n",
    "\n",
    "t=np.linspace(0,10,101)\n",
    "\n",
    "fig=plt.figure()\n",
    "ax=plt.subplot(111)\n",
    "ax.set_xlim(0,10) \n",
    "ax.set_ylim(-10,110)\n",
    "l1,=ax.plot([],[])\n",
    "\n",
    "x=[]\n",
    "y=[]\n",
    "\n",
    "def actualizar(t):\n",
    "    #ax.clear()\n",
    "    #plt.plot(x,f(x,t))\n",
    "    x.append(t)\n",
    "    y.append(f(t))\n",
    "    l1.set_data(x,y)\n",
    "    return l1,\n",
    "anim1=animation.FuncAnimation(fig,actualizar,t,interval=1000)\n"
   ]
  },
  {
   "cell_type": "code",
   "execution_count": null,
   "metadata": {
    "collapsed": true
   },
   "outputs": [],
   "source": []
  }
 ],
 "metadata": {
  "kernelspec": {
   "display_name": "Python 3",
   "language": "python",
   "name": "python3"
  },
  "language_info": {
   "codemirror_mode": {
    "name": "ipython",
    "version": 3
   },
   "file_extension": ".py",
   "mimetype": "text/x-python",
   "name": "python",
   "nbconvert_exporter": "python",
   "pygments_lexer": "ipython3",
   "version": "3.6.3"
  }
 },
 "nbformat": 4,
 "nbformat_minor": 2
}
